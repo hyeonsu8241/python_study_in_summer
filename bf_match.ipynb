{
  "nbformat": 4,
  "nbformat_minor": 0,
  "metadata": {
    "colab": {
      "name": "bf_match.ipynb",
      "provenance": [],
      "authorship_tag": "ABX9TyMYpl+rzZoQkP2GB7RnzpD/",
      "include_colab_link": true
    },
    "kernelspec": {
      "name": "python3",
      "display_name": "Python 3"
    },
    "language_info": {
      "name": "python"
    }
  },
  "cells": [
    {
      "cell_type": "markdown",
      "metadata": {
        "id": "view-in-github",
        "colab_type": "text"
      },
      "source": [
        "<a href=\"https://colab.research.google.com/github/hyeonsu8241/python_study_in_summer/blob/main/bf_match.ipynb\" target=\"_parent\"><img src=\"https://colab.research.google.com/assets/colab-badge.svg\" alt=\"Open In Colab\"/></a>"
      ]
    },
    {
      "cell_type": "code",
      "metadata": {
        "colab": {
          "base_uri": "https://localhost:8080/"
        },
        "id": "cu66SeefR3J3",
        "outputId": "f173dd34-8151-42e8-9cd2-cecaad44dec5"
      },
      "source": [
        "def bf_match(txt: str, pat: str)-> int:\n",
        "  pt = 0\n",
        "  pp = 0\n",
        "\n",
        "  while pt != len(txt) and pp != len(pat):\n",
        "    if txt[pt] == pat[pp]:\n",
        "      pt += 1\n",
        "      pp += 1\n",
        "    else:\n",
        "      pt = pt - pp + 1\n",
        "      pp = 0\n",
        "\n",
        "  return pt - pp if pp == len(pat) else -1\n",
        "\n",
        "if __name__ == '__main__':\n",
        "  s1 = input('Input any text : ')\n",
        "  s2 = input('Input any pattern : ')\n",
        "\n",
        "  idx = bf_match(s1, s2)\n",
        "\n",
        "  if idx == -1:\n",
        "    print('There is no pattern in text')\n",
        "  else:\n",
        "    print(f'The pattern is in {(idx + 1)}th.')"
      ],
      "execution_count": null,
      "outputs": [
        {
          "output_type": "stream",
          "text": [
            "Input any text : ABABCDEFGHA\n",
            "Input any pattern : ABC\n",
            "The pattern is in 3th.\n"
          ],
          "name": "stdout"
        }
      ]
    }
  ]
}