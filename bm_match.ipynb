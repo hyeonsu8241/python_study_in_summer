{
  "nbformat": 4,
  "nbformat_minor": 0,
  "metadata": {
    "colab": {
      "name": "bm_match.ipynb",
      "provenance": [],
      "authorship_tag": "ABX9TyNbmM51S3zhdRpp62jeegh8",
      "include_colab_link": true
    },
    "kernelspec": {
      "name": "python3",
      "display_name": "Python 3"
    },
    "language_info": {
      "name": "python"
    }
  },
  "cells": [
    {
      "cell_type": "markdown",
      "metadata": {
        "id": "view-in-github",
        "colab_type": "text"
      },
      "source": [
        "<a href=\"https://colab.research.google.com/github/hyeonsu8241/python_study_in_summer/blob/main/bm_match.ipynb\" target=\"_parent\"><img src=\"https://colab.research.google.com/assets/colab-badge.svg\" alt=\"Open In Colab\"/></a>"
      ]
    },
    {
      "cell_type": "code",
      "metadata": {
        "id": "ujjRr1jLitzC"
      },
      "source": [
        "def bm_match(txt: str, pat: str) -> int:\n",
        "  skip = [None] * 256\n",
        "\n",
        "  for pt in range(256):\n",
        "    skip[pt] = len(pat)\n",
        "  for pt in range(len(pat)):\n",
        "    skip[ord(pat[pt])] = len(pat) - pt - 1\n",
        "  \n",
        "  while pt < len(txt):\n",
        "    pp = len(pat) - 1\n",
        "    while txt[pt] == pat[pp]:\n",
        "      if pp == 0:\n",
        "        return pt\n",
        "      pt -= 1\n",
        "      pp -= 1\n",
        "    pt += skip[ord(txt[pt])] if skip[ord(txt[pt])] > len(pat) - pp else len(pat) - pp\n",
        "    \n",
        "  return -1"
      ],
      "execution_count": 1,
      "outputs": []
    },
    {
      "cell_type": "code",
      "metadata": {
        "colab": {
          "base_uri": "https://localhost:8080/"
        },
        "id": "ZINShOUzl1t1",
        "outputId": "15dabfb2-71cc-4239-f1b8-68119fbb81ae"
      },
      "source": [
        "if __name__ == '__main__':\n",
        "  s1 = input('Input the Text : ')\n",
        "  s2 = input('Input the pattern : ')\n",
        "\n",
        "  idx = bm_match(s1, s2)\n",
        "\n",
        "  if idx == -1:\n",
        "    print('There is no pattern in text.')\n",
        "  else:\n",
        "    print(f'The pattern is in {(idx + 1)}the text.')"
      ],
      "execution_count": 2,
      "outputs": [
        {
          "output_type": "stream",
          "text": [
            "Input the Text : ABABCDEFGHA\n",
            "Input the pattern : ABC\n",
            "The pattern is in 3the text.\n"
          ],
          "name": "stdout"
        }
      ]
    }
  ]
}