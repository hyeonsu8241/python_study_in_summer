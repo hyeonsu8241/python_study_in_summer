{
  "nbformat": 4,
  "nbformat_minor": 0,
  "metadata": {
    "colab": {
      "name": "kmp_match.ipynb",
      "provenance": [],
      "authorship_tag": "ABX9TyO+kLgJX8ZZDj4Yrtq9cQ9z",
      "include_colab_link": true
    },
    "kernelspec": {
      "name": "python3",
      "display_name": "Python 3"
    },
    "language_info": {
      "name": "python"
    }
  },
  "cells": [
    {
      "cell_type": "markdown",
      "metadata": {
        "id": "view-in-github",
        "colab_type": "text"
      },
      "source": [
        "<a href=\"https://colab.research.google.com/github/hyeonsu8241/python_study_in_summer/blob/main/kmp_match.ipynb\" target=\"_parent\"><img src=\"https://colab.research.google.com/assets/colab-badge.svg\" alt=\"Open In Colab\"/></a>"
      ]
    },
    {
      "cell_type": "code",
      "metadata": {
        "id": "bthQCNuNVuNI"
      },
      "source": [
        "def kmp_match(txt: str, pat: str) -> int:\n",
        "  pt = 1\n",
        "  pp = 0\n",
        "  skip = [0] * (len(pat) + 1)\n",
        "\n",
        "  skip[pt] = 0\n",
        "  while pt != len(pat):\n",
        "    if pat[pt] == pat[pp]:\n",
        "      pt += 1\n",
        "      pp += 1\n",
        "      skip[pt] = pp\n",
        "    elif pp == 0:\n",
        "      pt += 1\n",
        "      skip[pt] = pp\n",
        "    else:\n",
        "      pp = skip[pp]\n",
        "\n",
        "  pt = pp = 0\n",
        "  while pt != len(txt) and pp != len(pat):\n",
        "    if txt[pt] == pat[pp]:\n",
        "      pt += 1\n",
        "      pp += 1\n",
        "    elif pp == 0:\n",
        "      pt += 1\n",
        "    else:\n",
        "      pp = skip[pp]\n",
        "\n",
        "  return pt - pp if pp == len(pat) else -1"
      ],
      "execution_count": null,
      "outputs": []
    },
    {
      "cell_type": "code",
      "metadata": {
        "colab": {
          "base_uri": "https://localhost:8080/"
        },
        "id": "cmAFDLSThLx7",
        "outputId": "fc2ed3aa-486d-4893-e2e0-0b51ec318fcc"
      },
      "source": [
        "if __name__ == '__main__':\n",
        "  s1 = input('Input any text : ')\n",
        "  s2 = input('Input the pattern : ')\n",
        "\n",
        "  idx = kmp_match(s1, s2)\n",
        "\n",
        "  if idx == -1:\n",
        "    print('There is no pattern in text.')\n",
        "  else:\n",
        "    print(f'The pattern is in {(idx + 1)}th text.')"
      ],
      "execution_count": null,
      "outputs": [
        {
          "output_type": "stream",
          "text": [
            "Input any text : ABABCDEFGHA\n",
            "Input the pattern : ABC\n",
            "The pattern is in 3th text.\n"
          ],
          "name": "stdout"
        }
      ]
    }
  ]
}